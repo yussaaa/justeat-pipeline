{
  "nbformat": 4,
  "nbformat_minor": 0,
  "metadata": {
    "colab": {
      "provenance": []
    },
    "kernelspec": {
      "name": "python3",
      "display_name": "Python 3"
    },
    "language_info": {
      "name": "python"
    }
  },
  "cells": [
    {
      "cell_type": "markdown",
      "source": [
        "**Problem description**: The team was tasked with developing a model to predict the busyness of a certain geographical region. The project uses a dataset containing the courier locations captured during food collection at restaurants during a time interval. The data scientist has produced a working Proof of Concept (PoC). Now, as an ML Engineer, you are tasked with productionizing this PoC.\n",
        "This notebook contains the data scientist’s code to collect and create geo-location features to describe the busyness of regions (defined as h3 hexagons), and then train an ML model. The data scientist rushed to produce the PoC notebook, so the code is not well structured for a production application. As an ML engineer, your task is to:\n",
        "1. Define a structured ML pipeline project.\n",
        "2. Refactor the notebook into separate files to produce an executable ML pipeline using software engineering best practices and object-oriented programming appropriately.\n",
        "\n",
        "**Expected outcome**: A structured ML pipeline project containing scripts and project-level files.\n",
        "\n",
        "**Hints**: Consider creating files for each step, for example, `data_collection.py`, `feature_generation.py`, `training.py`, and `prediction.py`, in addition to pipeline and config files to connect and execute the pipeline. Some features might be poorly implemented or not be in use. Your focus as an ML Engineer is refactoring the notebook into a structure project, but you can highlight any implementation issues you spot."
      ],
      "metadata": {
        "id": "zHaAAiqFw4wN"
      }
    },
    {
      "cell_type": "code",
      "source": [
        "from google.colab import drive\n",
        "drive.mount('/content/drive')"
      ],
      "metadata": {
        "colab": {
          "base_uri": "https://localhost:8080/"
        },
        "id": "FkaVs4kt1Tvi",
        "outputId": "82ae7af2-f0ea-423c-9c7d-7f36be846e90"
      },
      "execution_count": null,
      "outputs": [
        {
          "output_type": "stream",
          "name": "stdout",
          "text": [
            "Mounted at /content/drive\n"
          ]
        }
      ]
    },
    {
      "cell_type": "markdown",
      "source": [
        "# 1. Data collection"
      ],
      "metadata": {
        "id": "I4UkHveY4zPD"
      }
    },
    {
      "cell_type": "code",
      "execution_count": null,
      "metadata": {
        "id": "jjU525QJgDlS",
        "colab": {
          "base_uri": "https://localhost:8080/",
          "height": 206
        },
        "outputId": "86a2c48a-4c94-4cf9-87fb-d3dc7dccdb6c"
      },
      "outputs": [
        {
          "output_type": "execute_result",
          "data": {
            "text/plain": [
              "                                         courier_id  order_number  \\\n",
              "0  a98737cbhoho5012hoho4b5bhoho867fhoho8475c658546d     281289453   \n",
              "1  39a26fa0hohof428hoho47a4hohoa320hoho12e3d831c23a     280949566   \n",
              "2  3813235ehoho7a42hoho4601hohob7eahoho799e8af5b535     281328578   \n",
              "3  9f033953hohocd53hoho488ahohoaf51hohoc57943e499ed     281317998   \n",
              "4  56f65bc8hohoba54hoho47dfhohoa09chohof7464b5d9848     281314132   \n",
              "\n",
              "  courier_location_timestamp  courier_lat  courier_lon  \\\n",
              "0   2021-04-02T04:30:42.328Z    50.484520  -104.618876   \n",
              "1   2021-04-01T06:14:47.386Z    50.442573  -104.550463   \n",
              "2   2021-04-02T05:48:57.224Z    50.495920  -104.635605   \n",
              "3   2021-04-02T05:12:17.252Z    50.449445  -104.611521   \n",
              "4   2021-04-02T05:15:38.266Z    50.495254  -104.666383   \n",
              "\n",
              "  order_created_timestamp  restaurant_lat  restaurant_lon  \n",
              "0    2021-04-02T04:20:42Z       50.483696     -104.614350  \n",
              "1    2021-04-01T06:05:18Z       50.442422     -104.550487  \n",
              "2    2021-04-02T05:13:26Z       50.496595     -104.635606  \n",
              "3    2021-04-02T04:59:57Z       50.449504     -104.611074  \n",
              "4    2021-04-02T04:54:53Z       50.495160     -104.665733  "
            ],
            "text/html": [
              "\n",
              "  <div id=\"df-ed95880f-171e-4e57-9172-5f9a0c7f3450\" class=\"colab-df-container\">\n",
              "    <div>\n",
              "<style scoped>\n",
              "    .dataframe tbody tr th:only-of-type {\n",
              "        vertical-align: middle;\n",
              "    }\n",
              "\n",
              "    .dataframe tbody tr th {\n",
              "        vertical-align: top;\n",
              "    }\n",
              "\n",
              "    .dataframe thead th {\n",
              "        text-align: right;\n",
              "    }\n",
              "</style>\n",
              "<table border=\"1\" class=\"dataframe\">\n",
              "  <thead>\n",
              "    <tr style=\"text-align: right;\">\n",
              "      <th></th>\n",
              "      <th>courier_id</th>\n",
              "      <th>order_number</th>\n",
              "      <th>courier_location_timestamp</th>\n",
              "      <th>courier_lat</th>\n",
              "      <th>courier_lon</th>\n",
              "      <th>order_created_timestamp</th>\n",
              "      <th>restaurant_lat</th>\n",
              "      <th>restaurant_lon</th>\n",
              "    </tr>\n",
              "  </thead>\n",
              "  <tbody>\n",
              "    <tr>\n",
              "      <th>0</th>\n",
              "      <td>a98737cbhoho5012hoho4b5bhoho867fhoho8475c658546d</td>\n",
              "      <td>281289453</td>\n",
              "      <td>2021-04-02T04:30:42.328Z</td>\n",
              "      <td>50.484520</td>\n",
              "      <td>-104.618876</td>\n",
              "      <td>2021-04-02T04:20:42Z</td>\n",
              "      <td>50.483696</td>\n",
              "      <td>-104.614350</td>\n",
              "    </tr>\n",
              "    <tr>\n",
              "      <th>1</th>\n",
              "      <td>39a26fa0hohof428hoho47a4hohoa320hoho12e3d831c23a</td>\n",
              "      <td>280949566</td>\n",
              "      <td>2021-04-01T06:14:47.386Z</td>\n",
              "      <td>50.442573</td>\n",
              "      <td>-104.550463</td>\n",
              "      <td>2021-04-01T06:05:18Z</td>\n",
              "      <td>50.442422</td>\n",
              "      <td>-104.550487</td>\n",
              "    </tr>\n",
              "    <tr>\n",
              "      <th>2</th>\n",
              "      <td>3813235ehoho7a42hoho4601hohob7eahoho799e8af5b535</td>\n",
              "      <td>281328578</td>\n",
              "      <td>2021-04-02T05:48:57.224Z</td>\n",
              "      <td>50.495920</td>\n",
              "      <td>-104.635605</td>\n",
              "      <td>2021-04-02T05:13:26Z</td>\n",
              "      <td>50.496595</td>\n",
              "      <td>-104.635606</td>\n",
              "    </tr>\n",
              "    <tr>\n",
              "      <th>3</th>\n",
              "      <td>9f033953hohocd53hoho488ahohoaf51hohoc57943e499ed</td>\n",
              "      <td>281317998</td>\n",
              "      <td>2021-04-02T05:12:17.252Z</td>\n",
              "      <td>50.449445</td>\n",
              "      <td>-104.611521</td>\n",
              "      <td>2021-04-02T04:59:57Z</td>\n",
              "      <td>50.449504</td>\n",
              "      <td>-104.611074</td>\n",
              "    </tr>\n",
              "    <tr>\n",
              "      <th>4</th>\n",
              "      <td>56f65bc8hohoba54hoho47dfhohoa09chohof7464b5d9848</td>\n",
              "      <td>281314132</td>\n",
              "      <td>2021-04-02T05:15:38.266Z</td>\n",
              "      <td>50.495254</td>\n",
              "      <td>-104.666383</td>\n",
              "      <td>2021-04-02T04:54:53Z</td>\n",
              "      <td>50.495160</td>\n",
              "      <td>-104.665733</td>\n",
              "    </tr>\n",
              "  </tbody>\n",
              "</table>\n",
              "</div>\n",
              "    <div class=\"colab-df-buttons\">\n",
              "\n",
              "  <div class=\"colab-df-container\">\n",
              "    <button class=\"colab-df-convert\" onclick=\"convertToInteractive('df-ed95880f-171e-4e57-9172-5f9a0c7f3450')\"\n",
              "            title=\"Convert this dataframe to an interactive table.\"\n",
              "            style=\"display:none;\">\n",
              "\n",
              "  <svg xmlns=\"http://www.w3.org/2000/svg\" height=\"24px\" viewBox=\"0 -960 960 960\">\n",
              "    <path d=\"M120-120v-720h720v720H120Zm60-500h600v-160H180v160Zm220 220h160v-160H400v160Zm0 220h160v-160H400v160ZM180-400h160v-160H180v160Zm440 0h160v-160H620v160ZM180-180h160v-160H180v160Zm440 0h160v-160H620v160Z\"/>\n",
              "  </svg>\n",
              "    </button>\n",
              "\n",
              "  <style>\n",
              "    .colab-df-container {\n",
              "      display:flex;\n",
              "      gap: 12px;\n",
              "    }\n",
              "\n",
              "    .colab-df-convert {\n",
              "      background-color: #E8F0FE;\n",
              "      border: none;\n",
              "      border-radius: 50%;\n",
              "      cursor: pointer;\n",
              "      display: none;\n",
              "      fill: #1967D2;\n",
              "      height: 32px;\n",
              "      padding: 0 0 0 0;\n",
              "      width: 32px;\n",
              "    }\n",
              "\n",
              "    .colab-df-convert:hover {\n",
              "      background-color: #E2EBFA;\n",
              "      box-shadow: 0px 1px 2px rgba(60, 64, 67, 0.3), 0px 1px 3px 1px rgba(60, 64, 67, 0.15);\n",
              "      fill: #174EA6;\n",
              "    }\n",
              "\n",
              "    .colab-df-buttons div {\n",
              "      margin-bottom: 4px;\n",
              "    }\n",
              "\n",
              "    [theme=dark] .colab-df-convert {\n",
              "      background-color: #3B4455;\n",
              "      fill: #D2E3FC;\n",
              "    }\n",
              "\n",
              "    [theme=dark] .colab-df-convert:hover {\n",
              "      background-color: #434B5C;\n",
              "      box-shadow: 0px 1px 3px 1px rgba(0, 0, 0, 0.15);\n",
              "      filter: drop-shadow(0px 1px 2px rgba(0, 0, 0, 0.3));\n",
              "      fill: #FFFFFF;\n",
              "    }\n",
              "  </style>\n",
              "\n",
              "    <script>\n",
              "      const buttonEl =\n",
              "        document.querySelector('#df-ed95880f-171e-4e57-9172-5f9a0c7f3450 button.colab-df-convert');\n",
              "      buttonEl.style.display =\n",
              "        google.colab.kernel.accessAllowed ? 'block' : 'none';\n",
              "\n",
              "      async function convertToInteractive(key) {\n",
              "        const element = document.querySelector('#df-ed95880f-171e-4e57-9172-5f9a0c7f3450');\n",
              "        const dataTable =\n",
              "          await google.colab.kernel.invokeFunction('convertToInteractive',\n",
              "                                                    [key], {});\n",
              "        if (!dataTable) return;\n",
              "\n",
              "        const docLinkHtml = 'Like what you see? Visit the ' +\n",
              "          '<a target=\"_blank\" href=https://colab.research.google.com/notebooks/data_table.ipynb>data table notebook</a>'\n",
              "          + ' to learn more about interactive tables.';\n",
              "        element.innerHTML = '';\n",
              "        dataTable['output_type'] = 'display_data';\n",
              "        await google.colab.output.renderOutput(dataTable, element);\n",
              "        const docLink = document.createElement('div');\n",
              "        docLink.innerHTML = docLinkHtml;\n",
              "        element.appendChild(docLink);\n",
              "      }\n",
              "    </script>\n",
              "  </div>\n",
              "\n",
              "\n",
              "<div id=\"df-637b9ae5-77b8-4a65-a7a0-57b460bc7826\">\n",
              "  <button class=\"colab-df-quickchart\" onclick=\"quickchart('df-637b9ae5-77b8-4a65-a7a0-57b460bc7826')\"\n",
              "            title=\"Suggest charts\"\n",
              "            style=\"display:none;\">\n",
              "\n",
              "<svg xmlns=\"http://www.w3.org/2000/svg\" height=\"24px\"viewBox=\"0 0 24 24\"\n",
              "     width=\"24px\">\n",
              "    <g>\n",
              "        <path d=\"M19 3H5c-1.1 0-2 .9-2 2v14c0 1.1.9 2 2 2h14c1.1 0 2-.9 2-2V5c0-1.1-.9-2-2-2zM9 17H7v-7h2v7zm4 0h-2V7h2v10zm4 0h-2v-4h2v4z\"/>\n",
              "    </g>\n",
              "</svg>\n",
              "  </button>\n",
              "\n",
              "<style>\n",
              "  .colab-df-quickchart {\n",
              "      --bg-color: #E8F0FE;\n",
              "      --fill-color: #1967D2;\n",
              "      --hover-bg-color: #E2EBFA;\n",
              "      --hover-fill-color: #174EA6;\n",
              "      --disabled-fill-color: #AAA;\n",
              "      --disabled-bg-color: #DDD;\n",
              "  }\n",
              "\n",
              "  [theme=dark] .colab-df-quickchart {\n",
              "      --bg-color: #3B4455;\n",
              "      --fill-color: #D2E3FC;\n",
              "      --hover-bg-color: #434B5C;\n",
              "      --hover-fill-color: #FFFFFF;\n",
              "      --disabled-bg-color: #3B4455;\n",
              "      --disabled-fill-color: #666;\n",
              "  }\n",
              "\n",
              "  .colab-df-quickchart {\n",
              "    background-color: var(--bg-color);\n",
              "    border: none;\n",
              "    border-radius: 50%;\n",
              "    cursor: pointer;\n",
              "    display: none;\n",
              "    fill: var(--fill-color);\n",
              "    height: 32px;\n",
              "    padding: 0;\n",
              "    width: 32px;\n",
              "  }\n",
              "\n",
              "  .colab-df-quickchart:hover {\n",
              "    background-color: var(--hover-bg-color);\n",
              "    box-shadow: 0 1px 2px rgba(60, 64, 67, 0.3), 0 1px 3px 1px rgba(60, 64, 67, 0.15);\n",
              "    fill: var(--button-hover-fill-color);\n",
              "  }\n",
              "\n",
              "  .colab-df-quickchart-complete:disabled,\n",
              "  .colab-df-quickchart-complete:disabled:hover {\n",
              "    background-color: var(--disabled-bg-color);\n",
              "    fill: var(--disabled-fill-color);\n",
              "    box-shadow: none;\n",
              "  }\n",
              "\n",
              "  .colab-df-spinner {\n",
              "    border: 2px solid var(--fill-color);\n",
              "    border-color: transparent;\n",
              "    border-bottom-color: var(--fill-color);\n",
              "    animation:\n",
              "      spin 1s steps(1) infinite;\n",
              "  }\n",
              "\n",
              "  @keyframes spin {\n",
              "    0% {\n",
              "      border-color: transparent;\n",
              "      border-bottom-color: var(--fill-color);\n",
              "      border-left-color: var(--fill-color);\n",
              "    }\n",
              "    20% {\n",
              "      border-color: transparent;\n",
              "      border-left-color: var(--fill-color);\n",
              "      border-top-color: var(--fill-color);\n",
              "    }\n",
              "    30% {\n",
              "      border-color: transparent;\n",
              "      border-left-color: var(--fill-color);\n",
              "      border-top-color: var(--fill-color);\n",
              "      border-right-color: var(--fill-color);\n",
              "    }\n",
              "    40% {\n",
              "      border-color: transparent;\n",
              "      border-right-color: var(--fill-color);\n",
              "      border-top-color: var(--fill-color);\n",
              "    }\n",
              "    60% {\n",
              "      border-color: transparent;\n",
              "      border-right-color: var(--fill-color);\n",
              "    }\n",
              "    80% {\n",
              "      border-color: transparent;\n",
              "      border-right-color: var(--fill-color);\n",
              "      border-bottom-color: var(--fill-color);\n",
              "    }\n",
              "    90% {\n",
              "      border-color: transparent;\n",
              "      border-bottom-color: var(--fill-color);\n",
              "    }\n",
              "  }\n",
              "</style>\n",
              "\n",
              "  <script>\n",
              "    async function quickchart(key) {\n",
              "      const quickchartButtonEl =\n",
              "        document.querySelector('#' + key + ' button');\n",
              "      quickchartButtonEl.disabled = true;  // To prevent multiple clicks.\n",
              "      quickchartButtonEl.classList.add('colab-df-spinner');\n",
              "      try {\n",
              "        const charts = await google.colab.kernel.invokeFunction(\n",
              "            'suggestCharts', [key], {});\n",
              "      } catch (error) {\n",
              "        console.error('Error during call to suggestCharts:', error);\n",
              "      }\n",
              "      quickchartButtonEl.classList.remove('colab-df-spinner');\n",
              "      quickchartButtonEl.classList.add('colab-df-quickchart-complete');\n",
              "    }\n",
              "    (() => {\n",
              "      let quickchartButtonEl =\n",
              "        document.querySelector('#df-637b9ae5-77b8-4a65-a7a0-57b460bc7826 button');\n",
              "      quickchartButtonEl.style.display =\n",
              "        google.colab.kernel.accessAllowed ? 'block' : 'none';\n",
              "    })();\n",
              "  </script>\n",
              "</div>\n",
              "    </div>\n",
              "  </div>\n"
            ]
          },
          "metadata": {},
          "execution_count": 3
        }
      ],
      "source": [
        "from io import StringIO\n",
        "import pandas as pd\n",
        "import numpy as np\n",
        "\n",
        "SAMPLE_DATA = StringIO(\"\"\"courier_id,order_number,courier_location_timestamp,courier_lat,courier_lon,order_created_timestamp,restaurant_lat,restaurant_lon\n",
        "a98737cbhoho5012hoho4b5bhoho867fhoho8475c658546d,281289453,2021-04-02T04:30:42.328Z,50.484520325268576,-104.61887559561548,2021-04-02T04:20:42Z,50.483696253259296,-104.61434958504181\n",
        "39a26fa0hohof428hoho47a4hohoa320hoho12e3d831c23a,280949566,2021-04-01T06:14:47.386Z,50.44257272227587,-104.55046328384749,2021-04-01T06:05:18Z,50.4424223,-104.5504874\n",
        "3813235ehoho7a42hoho4601hohob7eahoho799e8af5b535,281328578,2021-04-02T05:48:57.224Z,50.4959203,-104.6356053,2021-04-02T05:13:26Z,50.4965949,-104.6356059\n",
        "9f033953hohocd53hoho488ahohoaf51hohoc57943e499ed,281317998,2021-04-02T05:12:17.252Z,50.449445492444362,-104.61152056643822,2021-04-02T04:59:57Z,50.4495041,-104.6110744\n",
        "56f65bc8hohoba54hoho47dfhohoa09chohof7464b5d9848,281314132,2021-04-02T05:15:38.266Z,50.4952544,-104.6663829,2021-04-02T04:54:53Z,50.4951598,-104.6657333\n",
        "14995ac3hohoa1cbhoho4c4chohoab10hoho224f17643c1d,281338111,2021-04-02T05:56:05.205Z,50.495919191814679,-104.64014471092294,2021-04-02T05:25:31Z,50.496378,-104.6403723\n",
        "06c6be58hoho08e1hoho41a7hohob6f8hoho4dceb6c4fb80,281343348,2021-04-02T05:55:23.294Z,50.448327793713425,-104.53646034046066,2021-04-02T05:32:04Z,50.4482338434,-104.536186627\n",
        "4407d22bhoho005bhoho4ea1hohob2d9hoho4ad22c0dd75f,280950717,2021-04-01T06:19:07.133Z,50.472845499999991,-104.61854733333332,2021-04-01T06:07:15Z,50.4727424,-104.6185983\n",
        "53510a74hohoc305hoho47e9hoho95b2hoho401358e7fe9a,281313990,2021-04-02T05:15:18.303Z,50.44518463051854,-104.55607211858168,2021-04-02T04:54:41Z,50.4451323499,-104.556314434\n",
        "e75db857hoho17e0hoho4ddbhoho9884hoho4160f0f5f253,281248939,2021-04-02T03:30:31.258Z,50.452009655710675,-104.61147389130386,2021-04-02T03:19:09Z,50.451066433451821,-104.61137957374955\n",
        "\"\"\")\n",
        "\n",
        "df = pd.read_csv(SAMPLE_DATA)\n",
        "# df = pd.read_csv('final_dataset.csv')\n",
        "df.dropna(axis=0, inplace=True)\n",
        "df.head()"
      ]
    },
    {
      "cell_type": "code",
      "source": [
        "#unique couriers\n",
        "len(df.courier_id.unique())"
      ],
      "metadata": {
        "colab": {
          "base_uri": "https://localhost:8080/"
        },
        "id": "u6zZbugIkZDT",
        "outputId": "9c06f639-4a94-4895-b88e-3e0da7a04be7"
      },
      "execution_count": null,
      "outputs": [
        {
          "output_type": "execute_result",
          "data": {
            "text/plain": [
              "10"
            ]
          },
          "metadata": {},
          "execution_count": 4
        }
      ]
    },
    {
      "cell_type": "code",
      "source": [
        "#unique restaurants\n",
        "restaurants_ids = {}\n",
        "list_restaurants_ids = []\n",
        "for a,b in zip(df.restaurant_lat, df.restaurant_lon):\n",
        "  id = \"{}_{}\".format(a,b)\n",
        "  restaurants_ids[id] = {\"lat\": a, \"lon\":b}\n",
        "for i,key in enumerate(restaurants_ids.keys()):\n",
        "  restaurants_ids[key]['id'] = i\n",
        "\n",
        "#labeling of restaurants\n",
        "df['restaurant_id']=[restaurants_ids[\"{}_{}\".format(a,b)]['id'] for a,b in zip(df.restaurant_lat, df.restaurant_lon)]\n",
        "# number of unique restaurants\n",
        "len(restaurants_ids)"
      ],
      "metadata": {
        "colab": {
          "base_uri": "https://localhost:8080/"
        },
        "id": "H6bNaQtIoSml",
        "outputId": "15024083-41b2-45de-93bb-2de98b716b40"
      },
      "execution_count": null,
      "outputs": [
        {
          "output_type": "execute_result",
          "data": {
            "text/plain": [
              "10"
            ]
          },
          "metadata": {},
          "execution_count": 5
        }
      ]
    },
    {
      "cell_type": "markdown",
      "source": [
        "# 2. Features\n",
        "## 2.1 euclidean distance to restaurant\n"
      ],
      "metadata": {
        "id": "H5bKBHXz5MQr"
      }
    },
    {
      "cell_type": "code",
      "source": [
        "import collections.abc\n",
        "# calc. eucl. distances to restaurants arrays\n",
        "def calc_dist(p1x, p1y, p2x, p2y):\n",
        "  p1 = (p2x - p1x)**2\n",
        "  p2 = (p2y - p1y)**2\n",
        "  dist = np.sqrt(p1 + p2)\n",
        "  return dist.tolist() if isinstance(p1x, collections.abc.Sequence) else dist\n",
        "\n",
        "df['dist_to_restaurant'] = calc_dist(df.courier_lat, df.courier_lon, df.restaurant_lat, df.restaurant_lon)"
      ],
      "metadata": {
        "id": "2aUlqC4WrGI2"
      },
      "execution_count": null,
      "outputs": []
    },
    {
      "cell_type": "markdown",
      "source": [
        "##2.2 avg. eucl. distance to restantaurants"
      ],
      "metadata": {
        "id": "prwHubcS5okS"
      }
    },
    {
      "cell_type": "code",
      "source": [
        "# calc. avg. distance to restaurants\n",
        "def avg_dist_to_restaurants(courier_lat,courier_lon):\n",
        "  return np.mean([calc_dist(v['lat'], v['lon'], courier_lat, courier_lon) for v in restaurants_ids.values()])\n",
        "\n",
        "df['avg_dist_to_restaurants'] = [avg_dist_to_restaurants(lat,lon) for lat,lon in zip(df.courier_lat, df.courier_lon)]"
      ],
      "metadata": {
        "id": "iTuu94MB5waZ"
      },
      "execution_count": null,
      "outputs": []
    },
    {
      "cell_type": "markdown",
      "source": [
        "##2.3 Haversine distance to restaurant"
      ],
      "metadata": {
        "id": "A42sDH6V6Yph"
      }
    },
    {
      "cell_type": "code",
      "source": [
        "from math import radians, cos, sin, asin, sqrt\n",
        "import numpy as np\n",
        "\n",
        "def calc_haversine_dist(lat1, lon1, lat2, lon2):\n",
        "\n",
        "  R = 6372.8    #3959.87433  this is in miles.  For Earth radius in kilometers use 6372.8 km\n",
        "  if isinstance(lat1, collections.abc.Sequence):\n",
        "    dLat = np.array([radians(l2 - l1) for l2,l1 in zip(lat2, lat1)])\n",
        "    dLon = np.array([radians(l2 - l1) for l2,l1 in zip(lon2, lon1)])\n",
        "    lat1 = np.array([radians(l) for l in lat1])\n",
        "    lat2 = np.array([radians(l) for l in lat2])\n",
        "  else:\n",
        "    dLat = radians(lat2 - lat1)\n",
        "    dLon = radians(lon2 - lon1)\n",
        "    lat1 = radians(lat1)\n",
        "    lat2 = radians(lat2)\n",
        "\n",
        "  a = np.sin(dLat/2)**2 + np.cos(lat1)*np.cos(lat2)*np.sin(dLon/2)**2\n",
        "  c = 2*np.arcsin(np.sqrt(a))\n",
        "  dist = R*c\n",
        "  return dist.tolist() if isinstance(lon1, collections.abc.Sequence) else dist\n",
        "\n",
        "df['Hdist_to_restaurant'] = calc_haversine_dist(df.courier_lat.tolist(), df.courier_lon.tolist(), df.restaurant_lat.tolist(), df.restaurant_lon.tolist())"
      ],
      "metadata": {
        "id": "aDhaXnFY6krE"
      },
      "execution_count": null,
      "outputs": []
    },
    {
      "cell_type": "markdown",
      "source": [
        "## 2.4 avg. Haversine distance to restantaurants"
      ],
      "metadata": {
        "id": "if2H2z0pK8WM"
      }
    },
    {
      "cell_type": "code",
      "source": [
        "# calc. avg. distance to restaurants\n",
        "def avg_Hdist_to_restaurants(courier_lat,courier_lon):\n",
        "  return np.mean([calc_haversine_dist(v['lat'], v['lon'], courier_lat, courier_lon) for v in restaurants_ids.values()])\n",
        "\n",
        "df['avg_Hdist_to_restaurants'] = [avg_Hdist_to_restaurants(lat,lon) for lat,lon in zip(df.courier_lat, df.courier_lon)]"
      ],
      "metadata": {
        "id": "f1Vhs-VNIpik"
      },
      "execution_count": null,
      "outputs": []
    },
    {
      "cell_type": "markdown",
      "source": [
        "##2.5 Five-Clusters embedding"
      ],
      "metadata": {
        "id": "iwXkKe8APith"
      }
    },
    {
      "cell_type": "code",
      "source": [
        "#STEP 1 - define K & initiate data\n",
        "\n",
        "def initiate_centroids(k, df):\n",
        "    '''\n",
        "    Select k data points as centroids\n",
        "    k: number of centroids\n",
        "    dset: pandas dataframe\n",
        "    '''\n",
        "    centroids = df.sample(k)\n",
        "    return centroids\n",
        "\n",
        "np.random.seed(1)\n",
        "k=5\n",
        "df_restaurants = pd.DataFrame([{\"lat\": v['lat'], \"lon\": v['lon']} for v in restaurants_ids.values()])\n",
        "centroids = initiate_centroids(k, df_restaurants)\n",
        "\n",
        "df_couriers = pd.DataFrame({})\n",
        "df_couriers['lat'] = df['courier_lat']\n",
        "df_couriers['lon'] = df['courier_lon']\n",
        "\n",
        "\n",
        "# STEP 2 - define distance metric : Euclidean distance\n",
        "def eucl_dist(p1x,p1y,p2x,p2y):\n",
        "  return calc_dist(p1x, p1y, p2x, p2y)\n",
        "\n",
        "# STEP 3 - Centroid assignment\n",
        "def centroid_assignation(df, centroids):\n",
        "  k = len(centroids)\n",
        "  n = len(df)\n",
        "  assignation = []\n",
        "  assign_errors = []\n",
        "  centroids_list = [c for i,c in centroids.iterrows()]\n",
        "  for i,obs in df.iterrows():\n",
        "    # Estimate error\n",
        "    all_errors = [eucl_dist( centroid['lat'],\n",
        "                            centroid['lon'],\n",
        "                            obs['courier_lat'],\n",
        "                            obs['courier_lon']) for centroid in centroids_list]\n",
        "\n",
        "    # Get the nearest centroid and the error\n",
        "    nearest_centroid =  np.where(all_errors==np.min(all_errors))[0].tolist()[0]\n",
        "    nearest_centroid_error = np.min(all_errors)\n",
        "\n",
        "    # Add values to corresponding lists\n",
        "    assignation.append(nearest_centroid)\n",
        "    assign_errors.append(nearest_centroid_error)\n",
        "  df['Five_Clusters_embedding'] =assignation\n",
        "  df['Five_Clusters_embedding_error'] =assign_errors\n",
        "  return df\n",
        "\n",
        "df = centroid_assignation(df,centroids)"
      ],
      "metadata": {
        "id": "0VkbjGe3rGMM"
      },
      "execution_count": null,
      "outputs": []
    },
    {
      "cell_type": "markdown",
      "source": [
        "##2.6 H3 clustering"
      ],
      "metadata": {
        "id": "BdNoeQi4eYCK"
      }
    },
    {
      "cell_type": "code",
      "source": [
        "!pip install h3"
      ],
      "metadata": {
        "id": "OO-ZzPLfrGRc",
        "colab": {
          "base_uri": "https://localhost:8080/"
        },
        "outputId": "956be0f1-111f-49a4-e58f-63c67056bfcc"
      },
      "execution_count": null,
      "outputs": [
        {
          "output_type": "stream",
          "name": "stdout",
          "text": [
            "Collecting h3\n",
            "  Downloading h3-3.7.6-cp310-cp310-manylinux_2_17_x86_64.manylinux2014_x86_64.whl (1.1 MB)\n",
            "\u001b[2K     \u001b[90m━━━━━━━━━━━━━━━━━━━━━━━━━━━━━━━━━━━━━━━━\u001b[0m \u001b[32m1.1/1.1 MB\u001b[0m \u001b[31m7.2 MB/s\u001b[0m eta \u001b[36m0:00:00\u001b[0m\n",
            "\u001b[?25hInstalling collected packages: h3\n",
            "Successfully installed h3-3.7.6\n"
          ]
        }
      ]
    },
    {
      "cell_type": "code",
      "source": [
        "import h3\n",
        "\n",
        "resolution=7\n",
        "df['courier_location_timestamp']=  pd.to_datetime(df['courier_location_timestamp'])\n",
        "df['order_created_timestamp'] = pd.to_datetime(df['order_created_timestamp'])\n",
        "df['h3_index'] = [h3.geo_to_h3(lat,lon,resolution) for (lat,lon) in zip(df.courier_lat, df.courier_lon)]\n",
        "df['date_day_number'] = [d for d in df.courier_location_timestamp.dt.day_of_year]\n",
        "df['date_hour_number'] = [d for d in df.courier_location_timestamp.dt.hour]"
      ],
      "metadata": {
        "id": "QYpMwmhKkXDy"
      },
      "execution_count": null,
      "outputs": []
    },
    {
      "cell_type": "markdown",
      "source": [
        "## 2.7 Orders busyness"
      ],
      "metadata": {
        "id": "WZ2by0kcG4jD"
      }
    },
    {
      "cell_type": "code",
      "source": [
        "index_list = [(i,d,hr) for (i,d,hr) in zip(df.h3_index, df.date_day_number, df.date_hour_number)]\n",
        "\n",
        "set_indexes = list(set(index_list))\n",
        "dict_indexes = {label: index_list.count(label) for label in set_indexes}\n",
        "df['orders_busyness_by_h3_hour'] = [dict_indexes[i] for i in index_list]"
      ],
      "metadata": {
        "id": "N9VVX2Eut3Oj"
      },
      "execution_count": null,
      "outputs": []
    },
    {
      "cell_type": "markdown",
      "source": [
        "##2.8 number de restuarants per h3 index"
      ],
      "metadata": {
        "id": "tjH9GUOKHUS6"
      }
    },
    {
      "cell_type": "code",
      "source": [
        "restaurants_counts_per_h3_index = {a:len(b) for a,b in zip(df.groupby('h3_index')['restaurant_id'].unique().index, df.groupby('h3_index')['restaurant_id'].unique()) }\n",
        "df['restaurants_per_index'] = [restaurants_counts_per_h3_index[h] for h in df.h3_index]"
      ],
      "metadata": {
        "id": "p0jq3dlXh3Wn"
      },
      "execution_count": null,
      "outputs": []
    },
    {
      "cell_type": "markdown",
      "source": [
        "##2.9 Label encoding"
      ],
      "metadata": {
        "id": "nhzTkskuUsxV"
      }
    },
    {
      "cell_type": "code",
      "source": [
        "from sklearn.preprocessing import LabelEncoder\n",
        "\n",
        "def Encoder(df):\n",
        "  columnsToEncode = list(df.select_dtypes(include=['category','object']))\n",
        "  le = LabelEncoder()\n",
        "  for feature in columnsToEncode:\n",
        "      try:\n",
        "          df[feature] = le.fit_transform(df[feature])\n",
        "      except:\n",
        "          print('Error encoding '+feature)\n",
        "  return df\n",
        "\n",
        "df['h3_index'] = df.h3_index.astype('category')\n",
        "\n",
        "df= Encoder(df)"
      ],
      "metadata": {
        "id": "t8IHTrZuUxeU"
      },
      "execution_count": null,
      "outputs": []
    },
    {
      "cell_type": "code",
      "source": [
        "df.head()"
      ],
      "metadata": {
        "colab": {
          "base_uri": "https://localhost:8080/",
          "height": 357
        },
        "id": "B2SsbBvxkYKa",
        "outputId": "be985558-e0a9-4c97-979a-93422918e3fc"
      },
      "execution_count": null,
      "outputs": [
        {
          "output_type": "execute_result",
          "data": {
            "text/plain": [
              "   courier_id  order_number       courier_location_timestamp  courier_lat  \\\n",
              "0         346     281289453 2021-04-02 04:30:42.328000+00:00    50.484520   \n",
              "1         116     280949566 2021-04-01 06:14:47.386000+00:00    50.442573   \n",
              "2         110     281328578 2021-04-02 05:48:57.224000+00:00    50.495920   \n",
              "3         328     281317998 2021-04-02 05:12:17.252000+00:00    50.449445   \n",
              "4         178     281314132 2021-04-02 05:15:38.266000+00:00    50.495254   \n",
              "\n",
              "   courier_lon   order_created_timestamp  restaurant_lat  restaurant_lon  \\\n",
              "0  -104.618876 2021-04-02 04:20:42+00:00       50.483696     -104.614350   \n",
              "1  -104.550463 2021-04-01 06:05:18+00:00       50.442422     -104.550487   \n",
              "2  -104.635605 2021-04-02 05:13:26+00:00       50.496595     -104.635606   \n",
              "3  -104.611521 2021-04-02 04:59:57+00:00       50.449504     -104.611074   \n",
              "4  -104.666383 2021-04-02 04:54:53+00:00       50.495160     -104.665733   \n",
              "\n",
              "   restaurant_id  dist_to_restaurant  avg_dist_to_restaurants  \\\n",
              "0              0            0.004600                 0.056686   \n",
              "1              1            0.000152                 0.064685   \n",
              "2              2            0.000675                 0.067024   \n",
              "3              3            0.000450                 0.045752   \n",
              "4              4            0.000656                 0.082413   \n",
              "\n",
              "   Hdist_to_restaurant  avg_Hdist_to_restaurants  Five_Clusters_embedding  \\\n",
              "0             0.333173                  5.267000                        0   \n",
              "1             0.016818                  5.036710                        3   \n",
              "2             0.075033                  6.284221                        0   \n",
              "3             0.032265                  3.942031                        4   \n",
              "4             0.047152                  7.161970                        0   \n",
              "\n",
              "   Five_Clusters_embedding_error  h3_index  date_day_number  date_hour_number  \\\n",
              "0                       0.028487        28               92                 4   \n",
              "1                       0.006967        17               91                 6   \n",
              "2                       0.008998         6               92                 5   \n",
              "3                       0.035748        22               92                 5   \n",
              "4                       0.021886         5               92                 5   \n",
              "\n",
              "   orders_busyness_by_h3_hour  restaurants_per_index  \n",
              "0                         422                     51  \n",
              "1                         701                     75  \n",
              "2                         941                     59  \n",
              "3                        1026                     69  \n",
              "4                         397                     35  "
            ],
            "text/html": [
              "\n",
              "  <div id=\"df-2196a85f-56aa-407f-87db-98d86eacb01b\">\n",
              "    <div class=\"colab-df-container\">\n",
              "      <div>\n",
              "<style scoped>\n",
              "    .dataframe tbody tr th:only-of-type {\n",
              "        vertical-align: middle;\n",
              "    }\n",
              "\n",
              "    .dataframe tbody tr th {\n",
              "        vertical-align: top;\n",
              "    }\n",
              "\n",
              "    .dataframe thead th {\n",
              "        text-align: right;\n",
              "    }\n",
              "</style>\n",
              "<table border=\"1\" class=\"dataframe\">\n",
              "  <thead>\n",
              "    <tr style=\"text-align: right;\">\n",
              "      <th></th>\n",
              "      <th>courier_id</th>\n",
              "      <th>order_number</th>\n",
              "      <th>courier_location_timestamp</th>\n",
              "      <th>courier_lat</th>\n",
              "      <th>courier_lon</th>\n",
              "      <th>order_created_timestamp</th>\n",
              "      <th>restaurant_lat</th>\n",
              "      <th>restaurant_lon</th>\n",
              "      <th>restaurant_id</th>\n",
              "      <th>dist_to_restaurant</th>\n",
              "      <th>avg_dist_to_restaurants</th>\n",
              "      <th>Hdist_to_restaurant</th>\n",
              "      <th>avg_Hdist_to_restaurants</th>\n",
              "      <th>Five_Clusters_embedding</th>\n",
              "      <th>Five_Clusters_embedding_error</th>\n",
              "      <th>h3_index</th>\n",
              "      <th>date_day_number</th>\n",
              "      <th>date_hour_number</th>\n",
              "      <th>orders_busyness_by_h3_hour</th>\n",
              "      <th>restaurants_per_index</th>\n",
              "    </tr>\n",
              "  </thead>\n",
              "  <tbody>\n",
              "    <tr>\n",
              "      <th>0</th>\n",
              "      <td>346</td>\n",
              "      <td>281289453</td>\n",
              "      <td>2021-04-02 04:30:42.328000+00:00</td>\n",
              "      <td>50.484520</td>\n",
              "      <td>-104.618876</td>\n",
              "      <td>2021-04-02 04:20:42+00:00</td>\n",
              "      <td>50.483696</td>\n",
              "      <td>-104.614350</td>\n",
              "      <td>0</td>\n",
              "      <td>0.004600</td>\n",
              "      <td>0.056686</td>\n",
              "      <td>0.333173</td>\n",
              "      <td>5.267000</td>\n",
              "      <td>0</td>\n",
              "      <td>0.028487</td>\n",
              "      <td>28</td>\n",
              "      <td>92</td>\n",
              "      <td>4</td>\n",
              "      <td>422</td>\n",
              "      <td>51</td>\n",
              "    </tr>\n",
              "    <tr>\n",
              "      <th>1</th>\n",
              "      <td>116</td>\n",
              "      <td>280949566</td>\n",
              "      <td>2021-04-01 06:14:47.386000+00:00</td>\n",
              "      <td>50.442573</td>\n",
              "      <td>-104.550463</td>\n",
              "      <td>2021-04-01 06:05:18+00:00</td>\n",
              "      <td>50.442422</td>\n",
              "      <td>-104.550487</td>\n",
              "      <td>1</td>\n",
              "      <td>0.000152</td>\n",
              "      <td>0.064685</td>\n",
              "      <td>0.016818</td>\n",
              "      <td>5.036710</td>\n",
              "      <td>3</td>\n",
              "      <td>0.006967</td>\n",
              "      <td>17</td>\n",
              "      <td>91</td>\n",
              "      <td>6</td>\n",
              "      <td>701</td>\n",
              "      <td>75</td>\n",
              "    </tr>\n",
              "    <tr>\n",
              "      <th>2</th>\n",
              "      <td>110</td>\n",
              "      <td>281328578</td>\n",
              "      <td>2021-04-02 05:48:57.224000+00:00</td>\n",
              "      <td>50.495920</td>\n",
              "      <td>-104.635605</td>\n",
              "      <td>2021-04-02 05:13:26+00:00</td>\n",
              "      <td>50.496595</td>\n",
              "      <td>-104.635606</td>\n",
              "      <td>2</td>\n",
              "      <td>0.000675</td>\n",
              "      <td>0.067024</td>\n",
              "      <td>0.075033</td>\n",
              "      <td>6.284221</td>\n",
              "      <td>0</td>\n",
              "      <td>0.008998</td>\n",
              "      <td>6</td>\n",
              "      <td>92</td>\n",
              "      <td>5</td>\n",
              "      <td>941</td>\n",
              "      <td>59</td>\n",
              "    </tr>\n",
              "    <tr>\n",
              "      <th>3</th>\n",
              "      <td>328</td>\n",
              "      <td>281317998</td>\n",
              "      <td>2021-04-02 05:12:17.252000+00:00</td>\n",
              "      <td>50.449445</td>\n",
              "      <td>-104.611521</td>\n",
              "      <td>2021-04-02 04:59:57+00:00</td>\n",
              "      <td>50.449504</td>\n",
              "      <td>-104.611074</td>\n",
              "      <td>3</td>\n",
              "      <td>0.000450</td>\n",
              "      <td>0.045752</td>\n",
              "      <td>0.032265</td>\n",
              "      <td>3.942031</td>\n",
              "      <td>4</td>\n",
              "      <td>0.035748</td>\n",
              "      <td>22</td>\n",
              "      <td>92</td>\n",
              "      <td>5</td>\n",
              "      <td>1026</td>\n",
              "      <td>69</td>\n",
              "    </tr>\n",
              "    <tr>\n",
              "      <th>4</th>\n",
              "      <td>178</td>\n",
              "      <td>281314132</td>\n",
              "      <td>2021-04-02 05:15:38.266000+00:00</td>\n",
              "      <td>50.495254</td>\n",
              "      <td>-104.666383</td>\n",
              "      <td>2021-04-02 04:54:53+00:00</td>\n",
              "      <td>50.495160</td>\n",
              "      <td>-104.665733</td>\n",
              "      <td>4</td>\n",
              "      <td>0.000656</td>\n",
              "      <td>0.082413</td>\n",
              "      <td>0.047152</td>\n",
              "      <td>7.161970</td>\n",
              "      <td>0</td>\n",
              "      <td>0.021886</td>\n",
              "      <td>5</td>\n",
              "      <td>92</td>\n",
              "      <td>5</td>\n",
              "      <td>397</td>\n",
              "      <td>35</td>\n",
              "    </tr>\n",
              "  </tbody>\n",
              "</table>\n",
              "</div>\n",
              "      <button class=\"colab-df-convert\" onclick=\"convertToInteractive('df-2196a85f-56aa-407f-87db-98d86eacb01b')\"\n",
              "              title=\"Convert this dataframe to an interactive table.\"\n",
              "              style=\"display:none;\">\n",
              "        \n",
              "  <svg xmlns=\"http://www.w3.org/2000/svg\" height=\"24px\"viewBox=\"0 0 24 24\"\n",
              "       width=\"24px\">\n",
              "    <path d=\"M0 0h24v24H0V0z\" fill=\"none\"/>\n",
              "    <path d=\"M18.56 5.44l.94 2.06.94-2.06 2.06-.94-2.06-.94-.94-2.06-.94 2.06-2.06.94zm-11 1L8.5 8.5l.94-2.06 2.06-.94-2.06-.94L8.5 2.5l-.94 2.06-2.06.94zm10 10l.94 2.06.94-2.06 2.06-.94-2.06-.94-.94-2.06-.94 2.06-2.06.94z\"/><path d=\"M17.41 7.96l-1.37-1.37c-.4-.4-.92-.59-1.43-.59-.52 0-1.04.2-1.43.59L10.3 9.45l-7.72 7.72c-.78.78-.78 2.05 0 2.83L4 21.41c.39.39.9.59 1.41.59.51 0 1.02-.2 1.41-.59l7.78-7.78 2.81-2.81c.8-.78.8-2.07 0-2.86zM5.41 20L4 18.59l7.72-7.72 1.47 1.35L5.41 20z\"/>\n",
              "  </svg>\n",
              "      </button>\n",
              "      \n",
              "  <style>\n",
              "    .colab-df-container {\n",
              "      display:flex;\n",
              "      flex-wrap:wrap;\n",
              "      gap: 12px;\n",
              "    }\n",
              "\n",
              "    .colab-df-convert {\n",
              "      background-color: #E8F0FE;\n",
              "      border: none;\n",
              "      border-radius: 50%;\n",
              "      cursor: pointer;\n",
              "      display: none;\n",
              "      fill: #1967D2;\n",
              "      height: 32px;\n",
              "      padding: 0 0 0 0;\n",
              "      width: 32px;\n",
              "    }\n",
              "\n",
              "    .colab-df-convert:hover {\n",
              "      background-color: #E2EBFA;\n",
              "      box-shadow: 0px 1px 2px rgba(60, 64, 67, 0.3), 0px 1px 3px 1px rgba(60, 64, 67, 0.15);\n",
              "      fill: #174EA6;\n",
              "    }\n",
              "\n",
              "    [theme=dark] .colab-df-convert {\n",
              "      background-color: #3B4455;\n",
              "      fill: #D2E3FC;\n",
              "    }\n",
              "\n",
              "    [theme=dark] .colab-df-convert:hover {\n",
              "      background-color: #434B5C;\n",
              "      box-shadow: 0px 1px 3px 1px rgba(0, 0, 0, 0.15);\n",
              "      filter: drop-shadow(0px 1px 2px rgba(0, 0, 0, 0.3));\n",
              "      fill: #FFFFFF;\n",
              "    }\n",
              "  </style>\n",
              "\n",
              "      <script>\n",
              "        const buttonEl =\n",
              "          document.querySelector('#df-2196a85f-56aa-407f-87db-98d86eacb01b button.colab-df-convert');\n",
              "        buttonEl.style.display =\n",
              "          google.colab.kernel.accessAllowed ? 'block' : 'none';\n",
              "\n",
              "        async function convertToInteractive(key) {\n",
              "          const element = document.querySelector('#df-2196a85f-56aa-407f-87db-98d86eacb01b');\n",
              "          const dataTable =\n",
              "            await google.colab.kernel.invokeFunction('convertToInteractive',\n",
              "                                                     [key], {});\n",
              "          if (!dataTable) return;\n",
              "\n",
              "          const docLinkHtml = 'Like what you see? Visit the ' +\n",
              "            '<a target=\"_blank\" href=https://colab.research.google.com/notebooks/data_table.ipynb>data table notebook</a>'\n",
              "            + ' to learn more about interactive tables.';\n",
              "          element.innerHTML = '';\n",
              "          dataTable['output_type'] = 'display_data';\n",
              "          await google.colab.output.renderOutput(dataTable, element);\n",
              "          const docLink = document.createElement('div');\n",
              "          docLink.innerHTML = docLinkHtml;\n",
              "          element.appendChild(docLink);\n",
              "        }\n",
              "      </script>\n",
              "    </div>\n",
              "  </div>\n",
              "  "
            ]
          },
          "metadata": {},
          "execution_count": 14
        }
      ]
    },
    {
      "cell_type": "markdown",
      "source": [
        "#3. data preparation, trainig & validation"
      ],
      "metadata": {
        "id": "p459Sb2wLZw4"
      }
    },
    {
      "cell_type": "code",
      "source": [
        "from sklearn.model_selection import train_test_split\n",
        "from sklearn.ensemble import RandomForestRegressor\n",
        "\n",
        "X = df[['dist_to_restaurant', 'Hdist_to_restaurant', 'avg_Hdist_to_restaurants',\t'date_day_number', 'restaurant_id', 'Five_Clusters_embedding', 'h3_index','date_hour_number',\t\t'restaurants_per_index']]\n",
        "y = df[['orders_busyness_by_h3_hour']]\n",
        "\n",
        "X_train, X_test, y_train, y_test = train_test_split(X, y, test_size=0.33, random_state=42)\n",
        "\n",
        "\n",
        "regr = RandomForestRegressor(max_depth=4, random_state=0, n_jobs=-1)\n"
      ],
      "metadata": {
        "id": "q6E4Kv5wL3WI"
      },
      "execution_count": null,
      "outputs": []
    },
    {
      "cell_type": "code",
      "source": [
        "regr.fit(X_train, y_train)\n",
        "regr.score(X_test, y_test)"
      ],
      "metadata": {
        "colab": {
          "base_uri": "https://localhost:8080/"
        },
        "id": "lM-Rh5tuR7lW",
        "outputId": "35e076a1-6a0d-438c-dc55-85f9b57c202c"
      },
      "execution_count": null,
      "outputs": [
        {
          "output_type": "stream",
          "name": "stderr",
          "text": [
            "<ipython-input-19-440df59b5b48>:1: DataConversionWarning: A column-vector y was passed when a 1d array was expected. Please change the shape of y to (n_samples,), for example using ravel().\n",
            "  regr.fit(X_train, y_train)\n"
          ]
        },
        {
          "output_type": "execute_result",
          "data": {
            "text/plain": [
              "0.0716"
            ]
          },
          "metadata": {},
          "execution_count": 19
        }
      ]
    },
    {
      "cell_type": "code",
      "source": [
        "params = {\n",
        "    'max_depth': [4,5],\n",
        "    'min_samples_leaf': [50,75],\n",
        "    'n_estimators': [100,150]\n",
        "}\n",
        "from sklearn.model_selection import GridSearchCV\n",
        "# Instantiate the grid search model\n",
        "grid_search = GridSearchCV(estimator=regr,\n",
        "                           param_grid=params,\n",
        "                           cv = 3,\n",
        "                           n_jobs=-1, verbose=1, scoring=\"r2\")"
      ],
      "metadata": {
        "id": "d1uFKpcfWsiM"
      },
      "execution_count": null,
      "outputs": []
    },
    {
      "cell_type": "code",
      "source": [
        "grid_search.fit(X_train, y_train)"
      ],
      "metadata": {
        "colab": {
          "base_uri": "https://localhost:8080/",
          "height": 361
        },
        "id": "UBnj0rtUXPu3",
        "outputId": "e3fdbe07-d262-4061-b722-44a39ee715dc"
      },
      "execution_count": null,
      "outputs": [
        {
          "output_type": "stream",
          "name": "stdout",
          "text": [
            "Fitting 3 folds for each of 8 candidates, totalling 24 fits\n"
          ]
        },
        {
          "output_type": "stream",
          "name": "stderr",
          "text": [
            "/usr/local/lib/python3.10/dist-packages/sklearn/model_selection/_search.py:909: DataConversionWarning: A column-vector y was passed when a 1d array was expected. Please change the shape of y to (n_samples,), for example using ravel().\n",
            "  self.best_estimator_.fit(X, y, **fit_params)\n"
          ]
        },
        {
          "output_type": "execute_result",
          "data": {
            "text/plain": [
              "GridSearchCV(cv=3,\n",
              "             estimator=RandomForestRegressor(max_depth=4, n_jobs=-1,\n",
              "                                             random_state=0),\n",
              "             n_jobs=-1,\n",
              "             param_grid={'max_depth': [4, 5], 'min_samples_leaf': [50, 75],\n",
              "                         'n_estimators': [100, 150]},\n",
              "             scoring='r2', verbose=1)"
            ],
            "text/html": [
              "<style>#sk-container-id-1 {color: black;background-color: white;}#sk-container-id-1 pre{padding: 0;}#sk-container-id-1 div.sk-toggleable {background-color: white;}#sk-container-id-1 label.sk-toggleable__label {cursor: pointer;display: block;width: 100%;margin-bottom: 0;padding: 0.3em;box-sizing: border-box;text-align: center;}#sk-container-id-1 label.sk-toggleable__label-arrow:before {content: \"▸\";float: left;margin-right: 0.25em;color: #696969;}#sk-container-id-1 label.sk-toggleable__label-arrow:hover:before {color: black;}#sk-container-id-1 div.sk-estimator:hover label.sk-toggleable__label-arrow:before {color: black;}#sk-container-id-1 div.sk-toggleable__content {max-height: 0;max-width: 0;overflow: hidden;text-align: left;background-color: #f0f8ff;}#sk-container-id-1 div.sk-toggleable__content pre {margin: 0.2em;color: black;border-radius: 0.25em;background-color: #f0f8ff;}#sk-container-id-1 input.sk-toggleable__control:checked~div.sk-toggleable__content {max-height: 200px;max-width: 100%;overflow: auto;}#sk-container-id-1 input.sk-toggleable__control:checked~label.sk-toggleable__label-arrow:before {content: \"▾\";}#sk-container-id-1 div.sk-estimator input.sk-toggleable__control:checked~label.sk-toggleable__label {background-color: #d4ebff;}#sk-container-id-1 div.sk-label input.sk-toggleable__control:checked~label.sk-toggleable__label {background-color: #d4ebff;}#sk-container-id-1 input.sk-hidden--visually {border: 0;clip: rect(1px 1px 1px 1px);clip: rect(1px, 1px, 1px, 1px);height: 1px;margin: -1px;overflow: hidden;padding: 0;position: absolute;width: 1px;}#sk-container-id-1 div.sk-estimator {font-family: monospace;background-color: #f0f8ff;border: 1px dotted black;border-radius: 0.25em;box-sizing: border-box;margin-bottom: 0.5em;}#sk-container-id-1 div.sk-estimator:hover {background-color: #d4ebff;}#sk-container-id-1 div.sk-parallel-item::after {content: \"\";width: 100%;border-bottom: 1px solid gray;flex-grow: 1;}#sk-container-id-1 div.sk-label:hover label.sk-toggleable__label {background-color: #d4ebff;}#sk-container-id-1 div.sk-serial::before {content: \"\";position: absolute;border-left: 1px solid gray;box-sizing: border-box;top: 0;bottom: 0;left: 50%;z-index: 0;}#sk-container-id-1 div.sk-serial {display: flex;flex-direction: column;align-items: center;background-color: white;padding-right: 0.2em;padding-left: 0.2em;position: relative;}#sk-container-id-1 div.sk-item {position: relative;z-index: 1;}#sk-container-id-1 div.sk-parallel {display: flex;align-items: stretch;justify-content: center;background-color: white;position: relative;}#sk-container-id-1 div.sk-item::before, #sk-container-id-1 div.sk-parallel-item::before {content: \"\";position: absolute;border-left: 1px solid gray;box-sizing: border-box;top: 0;bottom: 0;left: 50%;z-index: -1;}#sk-container-id-1 div.sk-parallel-item {display: flex;flex-direction: column;z-index: 1;position: relative;background-color: white;}#sk-container-id-1 div.sk-parallel-item:first-child::after {align-self: flex-end;width: 50%;}#sk-container-id-1 div.sk-parallel-item:last-child::after {align-self: flex-start;width: 50%;}#sk-container-id-1 div.sk-parallel-item:only-child::after {width: 0;}#sk-container-id-1 div.sk-dashed-wrapped {border: 1px dashed gray;margin: 0 0.4em 0.5em 0.4em;box-sizing: border-box;padding-bottom: 0.4em;background-color: white;}#sk-container-id-1 div.sk-label label {font-family: monospace;font-weight: bold;display: inline-block;line-height: 1.2em;}#sk-container-id-1 div.sk-label-container {text-align: center;}#sk-container-id-1 div.sk-container {/* jupyter's `normalize.less` sets `[hidden] { display: none; }` but bootstrap.min.css set `[hidden] { display: none !important; }` so we also need the `!important` here to be able to override the default hidden behavior on the sphinx rendered scikit-learn.org. See: https://github.com/scikit-learn/scikit-learn/issues/21755 */display: inline-block !important;position: relative;}#sk-container-id-1 div.sk-text-repr-fallback {display: none;}</style><div id=\"sk-container-id-1\" class=\"sk-top-container\"><div class=\"sk-text-repr-fallback\"><pre>GridSearchCV(cv=3,\n",
              "             estimator=RandomForestRegressor(max_depth=4, n_jobs=-1,\n",
              "                                             random_state=0),\n",
              "             n_jobs=-1,\n",
              "             param_grid={&#x27;max_depth&#x27;: [4, 5], &#x27;min_samples_leaf&#x27;: [50, 75],\n",
              "                         &#x27;n_estimators&#x27;: [100, 150]},\n",
              "             scoring=&#x27;r2&#x27;, verbose=1)</pre><b>In a Jupyter environment, please rerun this cell to show the HTML representation or trust the notebook. <br />On GitHub, the HTML representation is unable to render, please try loading this page with nbviewer.org.</b></div><div class=\"sk-container\" hidden><div class=\"sk-item sk-dashed-wrapped\"><div class=\"sk-label-container\"><div class=\"sk-label sk-toggleable\"><input class=\"sk-toggleable__control sk-hidden--visually\" id=\"sk-estimator-id-1\" type=\"checkbox\" ><label for=\"sk-estimator-id-1\" class=\"sk-toggleable__label sk-toggleable__label-arrow\">GridSearchCV</label><div class=\"sk-toggleable__content\"><pre>GridSearchCV(cv=3,\n",
              "             estimator=RandomForestRegressor(max_depth=4, n_jobs=-1,\n",
              "                                             random_state=0),\n",
              "             n_jobs=-1,\n",
              "             param_grid={&#x27;max_depth&#x27;: [4, 5], &#x27;min_samples_leaf&#x27;: [50, 75],\n",
              "                         &#x27;n_estimators&#x27;: [100, 150]},\n",
              "             scoring=&#x27;r2&#x27;, verbose=1)</pre></div></div></div><div class=\"sk-parallel\"><div class=\"sk-parallel-item\"><div class=\"sk-item\"><div class=\"sk-label-container\"><div class=\"sk-label sk-toggleable\"><input class=\"sk-toggleable__control sk-hidden--visually\" id=\"sk-estimator-id-2\" type=\"checkbox\" ><label for=\"sk-estimator-id-2\" class=\"sk-toggleable__label sk-toggleable__label-arrow\">estimator: RandomForestRegressor</label><div class=\"sk-toggleable__content\"><pre>RandomForestRegressor(max_depth=4, n_jobs=-1, random_state=0)</pre></div></div></div><div class=\"sk-serial\"><div class=\"sk-item\"><div class=\"sk-estimator sk-toggleable\"><input class=\"sk-toggleable__control sk-hidden--visually\" id=\"sk-estimator-id-3\" type=\"checkbox\" ><label for=\"sk-estimator-id-3\" class=\"sk-toggleable__label sk-toggleable__label-arrow\">RandomForestRegressor</label><div class=\"sk-toggleable__content\"><pre>RandomForestRegressor(max_depth=4, n_jobs=-1, random_state=0)</pre></div></div></div></div></div></div></div></div></div></div>"
            ]
          },
          "metadata": {},
          "execution_count": 21
        }
      ]
    },
    {
      "cell_type": "code",
      "source": [
        "grid_search.best_score_"
      ],
      "metadata": {
        "colab": {
          "base_uri": "https://localhost:8080/"
        },
        "id": "SsoCLteXXTBE",
        "outputId": "4e4e51f4-b513-40e6-ad81-612726b2867c"
      },
      "execution_count": null,
      "outputs": [
        {
          "output_type": "execute_result",
          "data": {
            "text/plain": [
              "-0.3333333333333333"
            ]
          },
          "metadata": {},
          "execution_count": 22
        }
      ]
    },
    {
      "cell_type": "code",
      "source": [
        "rf_best = grid_search.best_estimator_\n",
        "rf_best"
      ],
      "metadata": {
        "colab": {
          "base_uri": "https://localhost:8080/",
          "height": 91
        },
        "id": "n_mBWZZLXXR0",
        "outputId": "2bdd715c-02f8-48c2-e368-fa66e40ba9ea"
      },
      "execution_count": null,
      "outputs": [
        {
          "output_type": "execute_result",
          "data": {
            "text/plain": [
              "RandomForestRegressor(max_depth=4, min_samples_leaf=50, n_jobs=-1,\n",
              "                      random_state=0)"
            ],
            "text/html": [
              "<style>#sk-container-id-2 {color: black;background-color: white;}#sk-container-id-2 pre{padding: 0;}#sk-container-id-2 div.sk-toggleable {background-color: white;}#sk-container-id-2 label.sk-toggleable__label {cursor: pointer;display: block;width: 100%;margin-bottom: 0;padding: 0.3em;box-sizing: border-box;text-align: center;}#sk-container-id-2 label.sk-toggleable__label-arrow:before {content: \"▸\";float: left;margin-right: 0.25em;color: #696969;}#sk-container-id-2 label.sk-toggleable__label-arrow:hover:before {color: black;}#sk-container-id-2 div.sk-estimator:hover label.sk-toggleable__label-arrow:before {color: black;}#sk-container-id-2 div.sk-toggleable__content {max-height: 0;max-width: 0;overflow: hidden;text-align: left;background-color: #f0f8ff;}#sk-container-id-2 div.sk-toggleable__content pre {margin: 0.2em;color: black;border-radius: 0.25em;background-color: #f0f8ff;}#sk-container-id-2 input.sk-toggleable__control:checked~div.sk-toggleable__content {max-height: 200px;max-width: 100%;overflow: auto;}#sk-container-id-2 input.sk-toggleable__control:checked~label.sk-toggleable__label-arrow:before {content: \"▾\";}#sk-container-id-2 div.sk-estimator input.sk-toggleable__control:checked~label.sk-toggleable__label {background-color: #d4ebff;}#sk-container-id-2 div.sk-label input.sk-toggleable__control:checked~label.sk-toggleable__label {background-color: #d4ebff;}#sk-container-id-2 input.sk-hidden--visually {border: 0;clip: rect(1px 1px 1px 1px);clip: rect(1px, 1px, 1px, 1px);height: 1px;margin: -1px;overflow: hidden;padding: 0;position: absolute;width: 1px;}#sk-container-id-2 div.sk-estimator {font-family: monospace;background-color: #f0f8ff;border: 1px dotted black;border-radius: 0.25em;box-sizing: border-box;margin-bottom: 0.5em;}#sk-container-id-2 div.sk-estimator:hover {background-color: #d4ebff;}#sk-container-id-2 div.sk-parallel-item::after {content: \"\";width: 100%;border-bottom: 1px solid gray;flex-grow: 1;}#sk-container-id-2 div.sk-label:hover label.sk-toggleable__label {background-color: #d4ebff;}#sk-container-id-2 div.sk-serial::before {content: \"\";position: absolute;border-left: 1px solid gray;box-sizing: border-box;top: 0;bottom: 0;left: 50%;z-index: 0;}#sk-container-id-2 div.sk-serial {display: flex;flex-direction: column;align-items: center;background-color: white;padding-right: 0.2em;padding-left: 0.2em;position: relative;}#sk-container-id-2 div.sk-item {position: relative;z-index: 1;}#sk-container-id-2 div.sk-parallel {display: flex;align-items: stretch;justify-content: center;background-color: white;position: relative;}#sk-container-id-2 div.sk-item::before, #sk-container-id-2 div.sk-parallel-item::before {content: \"\";position: absolute;border-left: 1px solid gray;box-sizing: border-box;top: 0;bottom: 0;left: 50%;z-index: -1;}#sk-container-id-2 div.sk-parallel-item {display: flex;flex-direction: column;z-index: 1;position: relative;background-color: white;}#sk-container-id-2 div.sk-parallel-item:first-child::after {align-self: flex-end;width: 50%;}#sk-container-id-2 div.sk-parallel-item:last-child::after {align-self: flex-start;width: 50%;}#sk-container-id-2 div.sk-parallel-item:only-child::after {width: 0;}#sk-container-id-2 div.sk-dashed-wrapped {border: 1px dashed gray;margin: 0 0.4em 0.5em 0.4em;box-sizing: border-box;padding-bottom: 0.4em;background-color: white;}#sk-container-id-2 div.sk-label label {font-family: monospace;font-weight: bold;display: inline-block;line-height: 1.2em;}#sk-container-id-2 div.sk-label-container {text-align: center;}#sk-container-id-2 div.sk-container {/* jupyter's `normalize.less` sets `[hidden] { display: none; }` but bootstrap.min.css set `[hidden] { display: none !important; }` so we also need the `!important` here to be able to override the default hidden behavior on the sphinx rendered scikit-learn.org. See: https://github.com/scikit-learn/scikit-learn/issues/21755 */display: inline-block !important;position: relative;}#sk-container-id-2 div.sk-text-repr-fallback {display: none;}</style><div id=\"sk-container-id-2\" class=\"sk-top-container\"><div class=\"sk-text-repr-fallback\"><pre>RandomForestRegressor(max_depth=4, min_samples_leaf=50, n_jobs=-1,\n",
              "                      random_state=0)</pre><b>In a Jupyter environment, please rerun this cell to show the HTML representation or trust the notebook. <br />On GitHub, the HTML representation is unable to render, please try loading this page with nbviewer.org.</b></div><div class=\"sk-container\" hidden><div class=\"sk-item\"><div class=\"sk-estimator sk-toggleable\"><input class=\"sk-toggleable__control sk-hidden--visually\" id=\"sk-estimator-id-4\" type=\"checkbox\" checked><label for=\"sk-estimator-id-4\" class=\"sk-toggleable__label sk-toggleable__label-arrow\">RandomForestRegressor</label><div class=\"sk-toggleable__content\"><pre>RandomForestRegressor(max_depth=4, min_samples_leaf=50, n_jobs=-1,\n",
              "                      random_state=0)</pre></div></div></div></div></div>"
            ]
          },
          "metadata": {},
          "execution_count": 23
        }
      ]
    },
    {
      "cell_type": "code",
      "source": [
        "rf_best.score(X_test, y_test)"
      ],
      "metadata": {
        "colab": {
          "base_uri": "https://localhost:8080/"
        },
        "id": "zl7F8899ZkNl",
        "outputId": "1c1aa456-ba6a-45b1-d695-ea01394624bb"
      },
      "execution_count": null,
      "outputs": [
        {
          "output_type": "execute_result",
          "data": {
            "text/plain": [
              "-0.04645925925925898"
            ]
          },
          "metadata": {},
          "execution_count": 24
        }
      ]
    }
  ]
}