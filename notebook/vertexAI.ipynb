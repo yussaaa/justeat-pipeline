{
 "cells": [
  {
   "cell_type": "code",
   "execution_count": null,
   "metadata": {},
   "outputs": [],
   "source": [
    "!pip install kfp\n",
    "!pip install google-cloud-pipeline-components"
   ]
  },
  {
   "cell_type": "code",
   "execution_count": 14,
   "metadata": {},
   "outputs": [],
   "source": [
    "import kfp\n",
    "\n",
    "from typing import NamedTuple\n",
    "\n",
    "from kfp.v2.dsl import pipeline\n",
    "from kfp.v2.dsl import component\n",
    "from kfp.v2.dsl import OutputPath\n",
    "from kfp.v2.dsl import InputPath\n",
    "\n",
    "\n",
    "from kfp.v2.dsl import Output\n",
    "from kfp.v2.dsl import Metrics\n",
    "\n",
    "from kfp.v2 import compiler\n",
    "\n",
    "# from kfp.google.client import AIPlatformClient\n",
    "\n",
    "\n",
    "from google.cloud import aiplatform\n",
    "from google.cloud.aiplatform import pipeline_jobs\n",
    "\n",
    "# from google_cloud_pipeline_components import aiplatform as gcc_aip\n",
    "\n",
    "from google_cloud_pipeline_components.v1.model import ModelUploadOp"
   ]
  },
  {
   "cell_type": "code",
   "execution_count": 15,
   "metadata": {},
   "outputs": [],
   "source": [
    "PROJECT_ID = \"citric-program-331111\"\n",
    "PIPELINE_ROOT = \"gs://cloud-ai-platform-4de6a256-deb4-4f4f-8b9f-8595e0183ea1/\"\n",
    "PROJECT_REGION = \"us-central1\""
   ]
  },
  {
   "cell_type": "code",
   "execution_count": 16,
   "metadata": {},
   "outputs": [],
   "source": [
    "aiplatform.init(project=PROJECT_ID, location=\"us-central1\")"
   ]
  },
  {
   "cell_type": "code",
   "execution_count": 17,
   "metadata": {},
   "outputs": [],
   "source": [
    "@component()\n",
    "def concat(a: str, b: str) -> str:\n",
    "    return a + b\n",
    "\n",
    "\n",
    "@component\n",
    "def reverse(a: str) -> NamedTuple(\"outputs\", [(\"before\", str), (\"after\", str)]):\n",
    "    return a, a[::-1]\n",
    "\n",
    "\n",
    "@pipeline(name=\"basic-pipeline\", pipeline_root=PIPELINE_ROOT + \"basic-pipeline\")\n",
    "def basic_pipeline(a: str = \"stres\", b: str = \"sed\"):\n",
    "    concat_task = concat(a=a, b=b)\n",
    "    reverse_task = reverse(a=concat_task.output)\n",
    "\n",
    "compiler.Compiler().compile(\n",
    "    pipeline_func=basic_pipeline, package_path=\"basic_pipeline.json\"\n",
    ")"
   ]
  },
  {
   "cell_type": "markdown",
   "metadata": {},
   "source": []
  },
  {
   "cell_type": "code",
   "execution_count": 39,
   "metadata": {},
   "outputs": [],
   "source": [
    "job = pipeline_jobs.PipelineJob(\n",
    "    display_name=\"basic-pipeline\",\n",
    "    template_path=\"basic_pipeline.json\",\n",
    "    parameter_values={\"a\": \"stres\", \"b\": \"sed\"},\n",
    ")\n",
    "job.run(sync=False)\n",
    "\n",
    "# job.submit()"
   ]
  },
  {
   "cell_type": "code",
   "execution_count": null,
   "metadata": {},
   "outputs": [],
   "source": []
  },
  {
   "cell_type": "markdown",
   "metadata": {},
   "source": [
    "## Vertex AI pipeline tutorial KFP\n",
    "https://cloud.google.com/vertex-ai/docs/pipelines/build-pipeline#started\n"
   ]
  },
  {
   "cell_type": "code",
   "execution_count": 3,
   "metadata": {},
   "outputs": [],
   "source": [
    "import kfp\n",
    "from google.cloud import aiplatform\n",
    "from google_cloud_pipeline_components.v1.dataset import ImageDatasetCreateOp\n",
    "from google_cloud_pipeline_components.v1.automl.training_job import AutoMLImageTrainingJobRunOp\n",
    "from google_cloud_pipeline_components.v1.endpoint import EndpointCreateOp, ModelDeployOp\n",
    "\n",
    "project_id = PROJECT_ID\n",
    "pipeline_root_path = PIPELINE_ROOT\n",
    "\n",
    "# Define the workflow of the pipeline.\n",
    "@kfp.dsl.pipeline(\n",
    "    name=\"automl-image-training-v2\",\n",
    "    pipeline_root=pipeline_root_path)\n",
    "def pipeline(project_id: str):\n",
    "    # The first step of your workflow is a dataset generator.\n",
    "    # This step takes a Google Cloud Pipeline Component, providing the necessary\n",
    "    # input arguments, and uses the Python variable `ds_op` to define its\n",
    "    # output. Note that here the `ds_op` only stores the definition of the\n",
    "    # output but not the actual returned object from the execution. The value\n",
    "    # of the object is not accessible at the dsl.pipeline level, and can only be\n",
    "    # retrieved by providing it as the input to a downstream component.\n",
    "    ds_op = ImageDatasetCreateOp(\n",
    "        project=project_id,\n",
    "        display_name=\"flowers\",\n",
    "        gcs_source=\"gs://cloud-samples-data/vision/automl_classification/flowers/all_data_v2.csv\",\n",
    "        import_schema_uri=aiplatform.schema.dataset.ioformat.image.single_label_classification,\n",
    "    )\n",
    "\n",
    "    # The second step is a model training component. It takes the dataset\n",
    "    # outputted from the first step, supplies it as an input argument to the\n",
    "    # component (see `dataset=ds_op.outputs[\"dataset\"]`), and will put its\n",
    "    # outputs into `training_job_run_op`.\n",
    "    training_job_run_op = AutoMLImageTrainingJobRunOp(\n",
    "        project=project_id,\n",
    "        display_name=\"train-iris-automl-mbsdk-1\",\n",
    "        prediction_type=\"classification\",\n",
    "        model_type=\"CLOUD\",\n",
    "        dataset=ds_op.outputs[\"dataset\"],\n",
    "        model_display_name=\"iris-classification-model-mbsdk\",\n",
    "        training_fraction_split=0.6,\n",
    "        validation_fraction_split=0.2,\n",
    "        test_fraction_split=0.2,\n",
    "        budget_milli_node_hours=8000,\n",
    "    )\n",
    "\n",
    "    # The third and fourth step are for deploying the model.\n",
    "    create_endpoint_op = EndpointCreateOp(\n",
    "        project=project_id,\n",
    "        display_name = \"create-endpoint\",\n",
    "    )\n",
    "\n",
    "    model_deploy_op = ModelDeployOp(\n",
    "        model=training_job_run_op.outputs[\"model\"],\n",
    "        endpoint=create_endpoint_op.outputs['endpoint'],\n",
    "        automatic_resources_min_replica_count=1,\n",
    "        automatic_resources_max_replica_count=1,\n",
    "    )"
   ]
  },
  {
   "cell_type": "code",
   "execution_count": 4,
   "metadata": {},
   "outputs": [],
   "source": [
    "from kfp import compiler\n",
    "\n",
    "compiler.Compiler().compile(\n",
    "    pipeline_func=pipeline, package_path=\"image_classif_pipeline.yaml\"\n",
    ")"
   ]
  },
  {
   "cell_type": "code",
   "execution_count": 7,
   "metadata": {},
   "outputs": [
    {
     "name": "stdout",
     "output_type": "stream",
     "text": [
      "env: GOOGLE_APPLICATION_CREDENTIALS=\"/Users/yusali/Downloads/citric-program-331111-ab6d94dddf97.json\"\n"
     ]
    }
   ],
   "source": [
    "%env GOOGLE_APPLICATION_CREDENTIALS=\"/Users/yusali/Downloads/citric-program-331111-ab6d94dddf97.json\""
   ]
  },
  {
   "cell_type": "code",
   "execution_count": 9,
   "metadata": {},
   "outputs": [],
   "source": [
    "from google.oauth2 import service_account\n",
    "\n",
    "credentials = service_account.Credentials.from_service_account_file(\n",
    "    \"/Users/yusali/Downloads/default-compute-service-account.json\"\n",
    ")"
   ]
  },
  {
   "cell_type": "code",
   "execution_count": 11,
   "metadata": {},
   "outputs": [
    {
     "name": "stdout",
     "output_type": "stream",
     "text": [
      "Creating PipelineJob\n",
      "PipelineJob created. Resource name: projects/944377447452/locations/us-central1/pipelineJobs/automl-image-training-v2-20240306171039\n",
      "To use this PipelineJob in another session:\n",
      "pipeline_job = aiplatform.PipelineJob.get('projects/944377447452/locations/us-central1/pipelineJobs/automl-image-training-v2-20240306171039')\n",
      "View Pipeline Job:\n",
      "https://console.cloud.google.com/vertex-ai/locations/us-central1/pipelines/runs/automl-image-training-v2-20240306171039?project=944377447452\n"
     ]
    }
   ],
   "source": [
    "import google.cloud.aiplatform as aip\n",
    "\n",
    "# Before initializing, make sure to set the GOOGLE_APPLICATION_CREDENTIALS\n",
    "# environment variable to the path of your service account.\n",
    "aip.init(project=project_id, location=PROJECT_REGION, credentials=credentials)\n",
    "\n",
    "# Prepare the pipeline job\n",
    "job = aip.PipelineJob(\n",
    "    display_name=\"automl-image-training-v2\",\n",
    "    template_path=\"image_classif_pipeline.yaml\",\n",
    "    pipeline_root=pipeline_root_path,\n",
    "    parameter_values={\"project_id\": project_id},\n",
    ")\n",
    "\n",
    "job.submit()"
   ]
  },
  {
   "cell_type": "code",
   "execution_count": null,
   "metadata": {},
   "outputs": [],
   "source": []
  },
  {
   "cell_type": "code",
   "execution_count": 20,
   "metadata": {},
   "outputs": [
    {
     "name": "stdout",
     "output_type": "stream",
     "text": [
      "env: GOOGLE_APPLICATION_CREDENTIALS=\"/Users/yusali/Downloads/default-compute-service-account.json\"\n"
     ]
    }
   ],
   "source": [
    "%env GOOGLE_APPLICATION_CREDENTIALS=\"/Users/yusali/Downloads/default-compute-service-account.json\""
   ]
  },
  {
   "cell_type": "code",
   "execution_count": 37,
   "metadata": {},
   "outputs": [],
   "source": [
    "from google.cloud import storage\n",
    "from io import StringIO\n",
    "\n",
    "def read_from_gcs(blob_path: str) -> str:\n",
    "    client = storage.Client(credentials=credentials)\n",
    "    bucket_name = \"cloud-ai-platform-4de6a256-deb4-4f4f-8b9f-8595e0183ea1\"\n",
    "\n",
    "    bucket = client.get_bucket(bucket_name)\n",
    "    blob = bucket.blob(blob_path)\n",
    "    csv_string = blob.download_as_text()\n",
    "\n",
    "    return StringIO(csv_string)\n",
    "\n",
    "\n",
    "df = pd.read_csv(read_from_gcs(\"final_dataset.csv\"))"
   ]
  },
  {
   "cell_type": "code",
   "execution_count": 34,
   "metadata": {},
   "outputs": [
    {
     "data": {
      "text/html": [
       "<div>\n",
       "<style scoped>\n",
       "    .dataframe tbody tr th:only-of-type {\n",
       "        vertical-align: middle;\n",
       "    }\n",
       "\n",
       "    .dataframe tbody tr th {\n",
       "        vertical-align: top;\n",
       "    }\n",
       "\n",
       "    .dataframe thead th {\n",
       "        text-align: right;\n",
       "    }\n",
       "</style>\n",
       "<table border=\"1\" class=\"dataframe\">\n",
       "  <thead>\n",
       "    <tr style=\"text-align: right;\">\n",
       "      <th></th>\n",
       "      <th>courier_id</th>\n",
       "      <th>order_number</th>\n",
       "      <th>courier_location_timestamp</th>\n",
       "      <th>courier_lat</th>\n",
       "      <th>courier_lon</th>\n",
       "      <th>order_created_timestamp</th>\n",
       "      <th>restaurant_lat</th>\n",
       "      <th>restaurant_lon</th>\n",
       "    </tr>\n",
       "  </thead>\n",
       "  <tbody>\n",
       "    <tr>\n",
       "      <th>0</th>\n",
       "      <td>a98737cbhoho5012hoho4b5bhoho867fhoho8475c658546d</td>\n",
       "      <td>281289453</td>\n",
       "      <td>2021-04-02T04:30:42.328Z</td>\n",
       "      <td>50.484520</td>\n",
       "      <td>-104.618876</td>\n",
       "      <td>2021-04-02T04:20:42Z</td>\n",
       "      <td>50.483696</td>\n",
       "      <td>-104.614350</td>\n",
       "    </tr>\n",
       "    <tr>\n",
       "      <th>1</th>\n",
       "      <td>39a26fa0hohof428hoho47a4hohoa320hoho12e3d831c23a</td>\n",
       "      <td>280949566</td>\n",
       "      <td>2021-04-01T06:14:47.386Z</td>\n",
       "      <td>50.442573</td>\n",
       "      <td>-104.550463</td>\n",
       "      <td>2021-04-01T06:05:18Z</td>\n",
       "      <td>50.442422</td>\n",
       "      <td>-104.550487</td>\n",
       "    </tr>\n",
       "    <tr>\n",
       "      <th>2</th>\n",
       "      <td>3813235ehoho7a42hoho4601hohob7eahoho799e8af5b535</td>\n",
       "      <td>281328578</td>\n",
       "      <td>2021-04-02T05:48:57.224Z</td>\n",
       "      <td>50.495920</td>\n",
       "      <td>-104.635605</td>\n",
       "      <td>2021-04-02T05:13:26Z</td>\n",
       "      <td>50.496595</td>\n",
       "      <td>-104.635606</td>\n",
       "    </tr>\n",
       "    <tr>\n",
       "      <th>3</th>\n",
       "      <td>9f033953hohocd53hoho488ahohoaf51hohoc57943e499ed</td>\n",
       "      <td>281317998</td>\n",
       "      <td>2021-04-02T05:12:17.252Z</td>\n",
       "      <td>50.449445</td>\n",
       "      <td>-104.611521</td>\n",
       "      <td>2021-04-02T04:59:57Z</td>\n",
       "      <td>50.449504</td>\n",
       "      <td>-104.611074</td>\n",
       "    </tr>\n",
       "    <tr>\n",
       "      <th>4</th>\n",
       "      <td>56f65bc8hohoba54hoho47dfhohoa09chohof7464b5d9848</td>\n",
       "      <td>281314132</td>\n",
       "      <td>2021-04-02T05:15:38.266Z</td>\n",
       "      <td>50.495254</td>\n",
       "      <td>-104.666383</td>\n",
       "      <td>2021-04-02T04:54:53Z</td>\n",
       "      <td>50.495160</td>\n",
       "      <td>-104.665733</td>\n",
       "    </tr>\n",
       "    <tr>\n",
       "      <th>...</th>\n",
       "      <td>...</td>\n",
       "      <td>...</td>\n",
       "      <td>...</td>\n",
       "      <td>...</td>\n",
       "      <td>...</td>\n",
       "      <td>...</td>\n",
       "      <td>...</td>\n",
       "      <td>...</td>\n",
       "    </tr>\n",
       "    <tr>\n",
       "      <th>20572</th>\n",
       "      <td>2f21e0c7hoho79b8hoho4ecdhohoaacbhohoad8b3e6565c2</td>\n",
       "      <td>281356256</td>\n",
       "      <td>2021-04-02T05:49:45.288Z</td>\n",
       "      <td>50.463855</td>\n",
       "      <td>-104.618036</td>\n",
       "      <td>2021-04-02T05:48:14Z</td>\n",
       "      <td>50.475204</td>\n",
       "      <td>-104.617475</td>\n",
       "    </tr>\n",
       "    <tr>\n",
       "      <th>20573</th>\n",
       "      <td>b3fe5a77hohofbb2hoho4c5fhohob9d5hoho1f87dd2ab9ed</td>\n",
       "      <td>281348386</td>\n",
       "      <td>2021-04-02T05:38:50.548Z</td>\n",
       "      <td>50.482136</td>\n",
       "      <td>-104.606574</td>\n",
       "      <td>2021-04-02T05:38:29Z</td>\n",
       "      <td>50.475204</td>\n",
       "      <td>-104.617475</td>\n",
       "    </tr>\n",
       "    <tr>\n",
       "      <th>20574</th>\n",
       "      <td>30a6cb7fhoho1825hoho407ehoho97f0hoho9d374a6b2f20</td>\n",
       "      <td>281353044</td>\n",
       "      <td>2021-04-02T05:46:23.316Z</td>\n",
       "      <td>50.473982</td>\n",
       "      <td>-104.631716</td>\n",
       "      <td>2021-04-02T05:44:18Z</td>\n",
       "      <td>50.475204</td>\n",
       "      <td>-104.617475</td>\n",
       "    </tr>\n",
       "    <tr>\n",
       "      <th>20575</th>\n",
       "      <td>30a6cb7fhoho1825hoho407ehoho97f0hoho9d374a6b2f20</td>\n",
       "      <td>281313038</td>\n",
       "      <td>2021-04-02T04:53:53.119Z</td>\n",
       "      <td>50.466229</td>\n",
       "      <td>-104.618022</td>\n",
       "      <td>2021-04-02T04:53:22Z</td>\n",
       "      <td>50.475204</td>\n",
       "      <td>-104.617475</td>\n",
       "    </tr>\n",
       "    <tr>\n",
       "      <th>20576</th>\n",
       "      <td>3a7fe5dehohob60dhoho465dhohoa53chohobc298c95375d</td>\n",
       "      <td>280969159</td>\n",
       "      <td>2021-04-01T06:41:21.230Z</td>\n",
       "      <td>50.457800</td>\n",
       "      <td>-104.618234</td>\n",
       "      <td>2021-04-01T06:39:45Z</td>\n",
       "      <td>50.475204</td>\n",
       "      <td>-104.617475</td>\n",
       "    </tr>\n",
       "  </tbody>\n",
       "</table>\n",
       "<p>20577 rows × 8 columns</p>\n",
       "</div>"
      ],
      "text/plain": [
       "                                             courier_id  order_number  \\\n",
       "0      a98737cbhoho5012hoho4b5bhoho867fhoho8475c658546d     281289453   \n",
       "1      39a26fa0hohof428hoho47a4hohoa320hoho12e3d831c23a     280949566   \n",
       "2      3813235ehoho7a42hoho4601hohob7eahoho799e8af5b535     281328578   \n",
       "3      9f033953hohocd53hoho488ahohoaf51hohoc57943e499ed     281317998   \n",
       "4      56f65bc8hohoba54hoho47dfhohoa09chohof7464b5d9848     281314132   \n",
       "...                                                 ...           ...   \n",
       "20572  2f21e0c7hoho79b8hoho4ecdhohoaacbhohoad8b3e6565c2     281356256   \n",
       "20573  b3fe5a77hohofbb2hoho4c5fhohob9d5hoho1f87dd2ab9ed     281348386   \n",
       "20574  30a6cb7fhoho1825hoho407ehoho97f0hoho9d374a6b2f20     281353044   \n",
       "20575  30a6cb7fhoho1825hoho407ehoho97f0hoho9d374a6b2f20     281313038   \n",
       "20576  3a7fe5dehohob60dhoho465dhohoa53chohobc298c95375d     280969159   \n",
       "\n",
       "      courier_location_timestamp  courier_lat  courier_lon  \\\n",
       "0       2021-04-02T04:30:42.328Z    50.484520  -104.618876   \n",
       "1       2021-04-01T06:14:47.386Z    50.442573  -104.550463   \n",
       "2       2021-04-02T05:48:57.224Z    50.495920  -104.635605   \n",
       "3       2021-04-02T05:12:17.252Z    50.449445  -104.611521   \n",
       "4       2021-04-02T05:15:38.266Z    50.495254  -104.666383   \n",
       "...                          ...          ...          ...   \n",
       "20572   2021-04-02T05:49:45.288Z    50.463855  -104.618036   \n",
       "20573   2021-04-02T05:38:50.548Z    50.482136  -104.606574   \n",
       "20574   2021-04-02T05:46:23.316Z    50.473982  -104.631716   \n",
       "20575   2021-04-02T04:53:53.119Z    50.466229  -104.618022   \n",
       "20576   2021-04-01T06:41:21.230Z    50.457800  -104.618234   \n",
       "\n",
       "      order_created_timestamp  restaurant_lat  restaurant_lon  \n",
       "0        2021-04-02T04:20:42Z       50.483696     -104.614350  \n",
       "1        2021-04-01T06:05:18Z       50.442422     -104.550487  \n",
       "2        2021-04-02T05:13:26Z       50.496595     -104.635606  \n",
       "3        2021-04-02T04:59:57Z       50.449504     -104.611074  \n",
       "4        2021-04-02T04:54:53Z       50.495160     -104.665733  \n",
       "...                       ...             ...             ...  \n",
       "20572    2021-04-02T05:48:14Z       50.475204     -104.617475  \n",
       "20573    2021-04-02T05:38:29Z       50.475204     -104.617475  \n",
       "20574    2021-04-02T05:44:18Z       50.475204     -104.617475  \n",
       "20575    2021-04-02T04:53:22Z       50.475204     -104.617475  \n",
       "20576    2021-04-01T06:39:45Z       50.475204     -104.617475  \n",
       "\n",
       "[20577 rows x 8 columns]"
      ]
     },
     "execution_count": 34,
     "metadata": {},
     "output_type": "execute_result"
    }
   ],
   "source": [
    "df"
   ]
  },
  {
   "cell_type": "code",
   "execution_count": null,
   "metadata": {},
   "outputs": [],
   "source": []
  },
  {
   "cell_type": "markdown",
   "metadata": {},
   "source": [
    "# Pipeline testing "
   ]
  },
  {
   "cell_type": "code",
   "execution_count": 47,
   "metadata": {},
   "outputs": [],
   "source": []
  },
  {
   "cell_type": "code",
   "execution_count": 51,
   "metadata": {},
   "outputs": [
    {
     "ename": "FileNotFoundError",
     "evalue": "[Errno 2] No such file or directory: './config.yaml'",
     "output_type": "error",
     "traceback": [
      "\u001b[0;31m---------------------------------------------------------------------------\u001b[0m",
      "\u001b[0;31mFileNotFoundError\u001b[0m                         Traceback (most recent call last)",
      "Cell \u001b[0;32mIn[51], line 3\u001b[0m\n\u001b[1;32m      1\u001b[0m \u001b[38;5;28;01mfrom\u001b[39;00m \u001b[38;5;21;01mmodel\u001b[39;00m\u001b[38;5;21;01m.\u001b[39;00m\u001b[38;5;21;01mdata_collection\u001b[39;00m \u001b[38;5;28;01mimport\u001b[39;00m data_ingestion\n\u001b[1;32m      2\u001b[0m \u001b[38;5;28;01mfrom\u001b[39;00m \u001b[38;5;21;01mmodel\u001b[39;00m\u001b[38;5;21;01m.\u001b[39;00m\u001b[38;5;21;01mfeature_generation\u001b[39;00m \u001b[38;5;28;01mimport\u001b[39;00m generate_features\n\u001b[0;32m----> 3\u001b[0m \u001b[38;5;28;01mfrom\u001b[39;00m \u001b[38;5;21;01mmodel\u001b[39;00m\u001b[38;5;21;01m.\u001b[39;00m\u001b[38;5;21;01mtraining\u001b[39;00m \u001b[38;5;28;01mimport\u001b[39;00m data_split, training_pipeline_run\n",
      "File \u001b[0;32m~/Desktop/JUSTeat-take-home/notebook/../src/model/training.py:7\u001b[0m\n\u001b[1;32m      3\u001b[0m \u001b[38;5;28;01mfrom\u001b[39;00m \u001b[38;5;21;01msklearn\u001b[39;00m\u001b[38;5;21;01m.\u001b[39;00m\u001b[38;5;21;01mmodel_selection\u001b[39;00m \u001b[38;5;28;01mimport\u001b[39;00m GridSearchCV\n\u001b[1;32m      5\u001b[0m \u001b[38;5;28;01mfrom\u001b[39;00m \u001b[38;5;21;01mutils\u001b[39;00m \u001b[38;5;28;01mimport\u001b[39;00m load_config\n\u001b[0;32m----> 7\u001b[0m config \u001b[38;5;241m=\u001b[39m \u001b[43mload_config\u001b[49m\u001b[43m(\u001b[49m\u001b[43m)\u001b[49m\n\u001b[1;32m      9\u001b[0m \u001b[38;5;28;01mfrom\u001b[39;00m \u001b[38;5;21;01mkfp\u001b[39;00m \u001b[38;5;28;01mimport\u001b[39;00m dsl\n\u001b[1;32m     10\u001b[0m \u001b[38;5;28;01mfrom\u001b[39;00m \u001b[38;5;21;01mkfp\u001b[39;00m\u001b[38;5;21;01m.\u001b[39;00m\u001b[38;5;21;01mdsl\u001b[39;00m \u001b[38;5;28;01mimport\u001b[39;00m Artifact, Input, Model, Output\n",
      "File \u001b[0;32m~/Desktop/JUSTeat-take-home/notebook/../src/utils.py:5\u001b[0m, in \u001b[0;36mload_config\u001b[0;34m(config_path)\u001b[0m\n\u001b[1;32m      4\u001b[0m \u001b[38;5;28;01mdef\u001b[39;00m \u001b[38;5;21mload_config\u001b[39m(config_path\u001b[38;5;241m=\u001b[39m\u001b[38;5;124m\"\u001b[39m\u001b[38;5;124m./config.yaml\u001b[39m\u001b[38;5;124m\"\u001b[39m):\n\u001b[0;32m----> 5\u001b[0m     \u001b[38;5;28;01mwith\u001b[39;00m \u001b[38;5;28;43mopen\u001b[39;49m\u001b[43m(\u001b[49m\u001b[43mconfig_path\u001b[49m\u001b[43m,\u001b[49m\u001b[43m \u001b[49m\u001b[38;5;124;43m\"\u001b[39;49m\u001b[38;5;124;43mr\u001b[39;49m\u001b[38;5;124;43m\"\u001b[39;49m\u001b[43m)\u001b[49m \u001b[38;5;28;01mas\u001b[39;00m file:\n\u001b[1;32m      6\u001b[0m         config \u001b[38;5;241m=\u001b[39m yaml\u001b[38;5;241m.\u001b[39msafe_load(file)\n\u001b[1;32m      7\u001b[0m     \u001b[38;5;28;01mreturn\u001b[39;00m config\n",
      "\u001b[0;31mFileNotFoundError\u001b[0m: [Errno 2] No such file or directory: './config.yaml'"
     ]
    }
   ],
   "source": [
    "from model.data_collection import data_ingestion\n",
    "from model.feature_generation import generate_features\n",
    "from model.training import data_split, training_pipeline_run\n"
   ]
  },
  {
   "cell_type": "code",
   "execution_count": null,
   "metadata": {},
   "outputs": [],
   "source": []
  }
 ],
 "metadata": {
  "kernelspec": {
   "display_name": "venv",
   "language": "python",
   "name": "python3"
  },
  "language_info": {
   "codemirror_mode": {
    "name": "ipython",
    "version": 3
   },
   "file_extension": ".py",
   "mimetype": "text/x-python",
   "name": "python",
   "nbconvert_exporter": "python",
   "pygments_lexer": "ipython3",
   "version": "3.10.12"
  }
 },
 "nbformat": 4,
 "nbformat_minor": 2
}
